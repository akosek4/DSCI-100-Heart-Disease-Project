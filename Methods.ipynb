{
 "cells": [
  {
   "cell_type": "markdown",
   "id": "f392ce5c-caf8-4972-99b7-b8b88a23bf69",
   "metadata": {},
   "source": [
    "**Methods (Not Finalized)**\n",
    "\n",
    "Before we started building our k-nn model, we used boxplot to see if there is a significant difference between healthy and sick people's data on each variable based on the overall shift and mean value. Finally, we came to the conclusion that age, exploratory_vessels, oldpeak, and max_heart_rate (4 among the 6) are the most vital predictors to our prediction.\n",
    "\n",
    "Now, we are starting to build our classification model. After splitting the data into 75% and 25% for the training and testing sets respectively, we will do the following: \n",
    "\n",
    "1. Create a knn classification model using k = tune(), and a recipe that uses the 4 parameters mentioned above as predictors on the training set and that scales and centers all the predictors.\n",
    "2. Apply cross-validation on the training data to find the average accuracy from our training set’s prediction using vfold_cv() that folds the data ~5 times. \n",
    "3. Generate a workflow that uses tune_grid to get control over the number of Ks we need, and apply collect_metrics() for plotting.\n",
    "4. Plot K using both geom_point() and geom_line(), and find the K that has the highest accuracy by looking for the peak.\n",
    "5. Rebuild knn model with new k value.\n",
    "6. Pass the new model and recipe into a new workflow using the training set and call fit().\n",
    "7. Predict our classification result by passing the fitted training object and testing set into the predict() as arguments; bind cols if needed. \n",
    "8. Analyze accuracy using metrics and confusion metrics and report the conclusion (the way to visualize the result of our model’s accuracy)"
   ]
  },
  {
   "cell_type": "code",
   "execution_count": null,
   "id": "14762657-77b6-4d4b-a8be-bcd40603faae",
   "metadata": {},
   "outputs": [],
   "source": []
  },
  {
   "cell_type": "code",
   "execution_count": null,
   "id": "76e69b1e-b9aa-4538-9298-d53034bcf224",
   "metadata": {},
   "outputs": [],
   "source": []
  }
 ],
 "metadata": {
  "kernelspec": {
   "display_name": "R",
   "language": "R",
   "name": "ir"
  },
  "language_info": {
   "codemirror_mode": "r",
   "file_extension": ".r",
   "mimetype": "text/x-r-source",
   "name": "R",
   "pygments_lexer": "r",
   "version": "4.1.3"
  }
 },
 "nbformat": 4,
 "nbformat_minor": 5
}
