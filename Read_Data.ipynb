{
 "cells": [
  {
   "cell_type": "code",
   "execution_count": 1,
   "id": "77b843c1-58b8-442a-b8f5-ec610a44a8fd",
   "metadata": {},
   "outputs": [
    {
     "name": "stderr",
     "output_type": "stream",
     "text": [
      "── \u001b[1mAttaching packages\u001b[22m ─────────────────────────────────────── tidyverse 1.3.1 ──\n",
      "\n",
      "\u001b[32m✔\u001b[39m \u001b[34mggplot2\u001b[39m 3.3.6     \u001b[32m✔\u001b[39m \u001b[34mpurrr  \u001b[39m 0.3.4\n",
      "\u001b[32m✔\u001b[39m \u001b[34mtibble \u001b[39m 3.1.7     \u001b[32m✔\u001b[39m \u001b[34mdplyr  \u001b[39m 1.0.9\n",
      "\u001b[32m✔\u001b[39m \u001b[34mtidyr  \u001b[39m 1.2.0     \u001b[32m✔\u001b[39m \u001b[34mstringr\u001b[39m 1.4.0\n",
      "\u001b[32m✔\u001b[39m \u001b[34mreadr  \u001b[39m 2.1.2     \u001b[32m✔\u001b[39m \u001b[34mforcats\u001b[39m 0.5.1\n",
      "\n",
      "── \u001b[1mConflicts\u001b[22m ────────────────────────────────────────── tidyverse_conflicts() ──\n",
      "\u001b[31m✖\u001b[39m \u001b[34mdplyr\u001b[39m::\u001b[32mfilter()\u001b[39m masks \u001b[34mstats\u001b[39m::filter()\n",
      "\u001b[31m✖\u001b[39m \u001b[34mdplyr\u001b[39m::\u001b[32mlag()\u001b[39m    masks \u001b[34mstats\u001b[39m::lag()\n",
      "\n",
      "── \u001b[1mAttaching packages\u001b[22m ────────────────────────────────────── tidymodels 1.0.0 ──\n",
      "\n",
      "\u001b[32m✔\u001b[39m \u001b[34mbroom       \u001b[39m 1.0.0     \u001b[32m✔\u001b[39m \u001b[34mrsample     \u001b[39m 1.0.0\n",
      "\u001b[32m✔\u001b[39m \u001b[34mdials       \u001b[39m 1.0.0     \u001b[32m✔\u001b[39m \u001b[34mtune        \u001b[39m 1.0.0\n",
      "\u001b[32m✔\u001b[39m \u001b[34minfer       \u001b[39m 1.0.2     \u001b[32m✔\u001b[39m \u001b[34mworkflows   \u001b[39m 1.0.0\n",
      "\u001b[32m✔\u001b[39m \u001b[34mmodeldata   \u001b[39m 1.0.0     \u001b[32m✔\u001b[39m \u001b[34mworkflowsets\u001b[39m 1.0.0\n",
      "\u001b[32m✔\u001b[39m \u001b[34mparsnip     \u001b[39m 1.0.0     \u001b[32m✔\u001b[39m \u001b[34myardstick   \u001b[39m 1.0.0\n",
      "\u001b[32m✔\u001b[39m \u001b[34mrecipes     \u001b[39m 1.0.1     \n",
      "\n",
      "── \u001b[1mConflicts\u001b[22m ───────────────────────────────────────── tidymodels_conflicts() ──\n",
      "\u001b[31m✖\u001b[39m \u001b[34mscales\u001b[39m::\u001b[32mdiscard()\u001b[39m masks \u001b[34mpurrr\u001b[39m::discard()\n",
      "\u001b[31m✖\u001b[39m \u001b[34mdplyr\u001b[39m::\u001b[32mfilter()\u001b[39m   masks \u001b[34mstats\u001b[39m::filter()\n",
      "\u001b[31m✖\u001b[39m \u001b[34mrecipes\u001b[39m::\u001b[32mfixed()\u001b[39m  masks \u001b[34mstringr\u001b[39m::fixed()\n",
      "\u001b[31m✖\u001b[39m \u001b[34mdplyr\u001b[39m::\u001b[32mlag()\u001b[39m      masks \u001b[34mstats\u001b[39m::lag()\n",
      "\u001b[31m✖\u001b[39m \u001b[34myardstick\u001b[39m::\u001b[32mspec()\u001b[39m masks \u001b[34mreadr\u001b[39m::spec()\n",
      "\u001b[31m✖\u001b[39m \u001b[34mrecipes\u001b[39m::\u001b[32mstep()\u001b[39m   masks \u001b[34mstats\u001b[39m::step()\n",
      "\u001b[34m•\u001b[39m Dig deeper into tidy modeling with R at \u001b[32mhttps://www.tmwr.org\u001b[39m\n",
      "\n"
     ]
    }
   ],
   "source": [
    "library(tidyverse)\n",
    "library(repr)\n",
    "library(tidymodels)"
   ]
  },
  {
   "cell_type": "code",
   "execution_count": 3,
   "id": "b4146768-cc64-4af6-b9b9-43e800b2cc7c",
   "metadata": {},
   "outputs": [
    {
     "name": "stderr",
     "output_type": "stream",
     "text": [
      "\u001b[1m\u001b[22mNew names:\n",
      "\u001b[36m•\u001b[39m `` -> `...7`\n",
      "\u001b[36m•\u001b[39m `` -> `...11`\n",
      "\u001b[36m•\u001b[39m `` -> `...15`\n",
      "\u001b[36m•\u001b[39m `` -> `...18`\n",
      "Warning message:\n",
      "“One or more parsing issues, see `problems()` for details”\n",
      "\u001b[1mRows: \u001b[22m\u001b[34m302\u001b[39m \u001b[1mColumns: \u001b[22m\u001b[34m19\u001b[39m\n",
      "\u001b[36m──\u001b[39m \u001b[1mColumn specification\u001b[22m \u001b[36m────────────────────────────────────────────────────────\u001b[39m\n",
      "\u001b[1mDelimiter:\u001b[22m \" \"\n",
      "\u001b[31mchr\u001b[39m (17): male, angina, 145.0, true, ...7, hyp, 150.0, fal, ...11, 2.3, down...\n",
      "\u001b[32mdbl\u001b[39m  (2): 63.0, 233.0\n",
      "\n",
      "\u001b[36mℹ\u001b[39m Use `spec()` to retrieve the full column specification for this data.\n",
      "\u001b[36mℹ\u001b[39m Specify the column types or set `show_col_types = FALSE` to quiet this message.\n"
     ]
    }
   ],
   "source": [
    "test <- read_delim(\"https://archive.ics.uci.edu/ml/machine-learning-databases/heart-disease/cleve.mod\", delim = \" \", skip = 20)"
   ]
  },
  {
   "cell_type": "code",
   "execution_count": 4,
   "id": "19166464-3260-4da6-9ceb-bbcc0750945c",
   "metadata": {},
   "outputs": [
    {
     "name": "stdout",
     "output_type": "stream",
     "text": [
      "\u001b[90m# A tibble: 302 × 19\u001b[39m\n",
      "   `63.0` male  angina `145.0` `233.0` true  ...7  hyp   `150.0` fal   ...11\n",
      "    \u001b[3m\u001b[90m<dbl>\u001b[39m\u001b[23m \u001b[3m\u001b[90m<chr>\u001b[39m\u001b[23m \u001b[3m\u001b[90m<chr>\u001b[39m\u001b[23m  \u001b[3m\u001b[90m<chr>\u001b[39m\u001b[23m     \u001b[3m\u001b[90m<dbl>\u001b[39m\u001b[23m \u001b[3m\u001b[90m<chr>\u001b[39m\u001b[23m \u001b[3m\u001b[90m<chr>\u001b[39m\u001b[23m \u001b[3m\u001b[90m<chr>\u001b[39m\u001b[23m \u001b[3m\u001b[90m<chr>\u001b[39m\u001b[23m   \u001b[3m\u001b[90m<chr>\u001b[39m\u001b[23m \u001b[3m\u001b[90m<chr>\u001b[39m\u001b[23m\n",
      "\u001b[90m 1\u001b[39m     67 male  asympt 160.0       286 fal   \u001b[31mNA\u001b[39m    \u001b[31mNA\u001b[39m    hyp     108.0 true \n",
      "\u001b[90m 2\u001b[39m     67 male  asympt 120.0       229 fal   \u001b[31mNA\u001b[39m    \u001b[31mNA\u001b[39m    hyp     129.0 true \n",
      "\u001b[90m 3\u001b[39m     37 male  notang 130.0       250 fal   \u001b[31mNA\u001b[39m    norm  187.0   fal   \u001b[31mNA\u001b[39m   \n",
      "\u001b[90m 4\u001b[39m     41 \u001b[31mNA\u001b[39m    fem    abnang      130 204.0 fal   \u001b[31mNA\u001b[39m    \u001b[31mNA\u001b[39m      hyp   172.0\n",
      "\u001b[90m 5\u001b[39m     56 male  abnang 120.0       236 fal   \u001b[31mNA\u001b[39m    norm  178.0   fal   \u001b[31mNA\u001b[39m   \n",
      "\u001b[90m 6\u001b[39m     62 \u001b[31mNA\u001b[39m    fem    asympt      140 268.0 fal   \u001b[31mNA\u001b[39m    \u001b[31mNA\u001b[39m      hyp   160.0\n",
      "\u001b[90m 7\u001b[39m     57 \u001b[31mNA\u001b[39m    fem    asympt      120 354.0 fal   \u001b[31mNA\u001b[39m    norm    163.0 true \n",
      "\u001b[90m 8\u001b[39m     63 male  asympt 130.0       254 fal   \u001b[31mNA\u001b[39m    \u001b[31mNA\u001b[39m    hyp     147.0 fal  \n",
      "\u001b[90m 9\u001b[39m     53 male  asympt 140.0       203 true  \u001b[31mNA\u001b[39m    hyp   155.0   true  3.1  \n",
      "\u001b[90m10\u001b[39m     57 male  asympt 140.0       192 fal   \u001b[31mNA\u001b[39m    norm  148.0   fal   \u001b[31mNA\u001b[39m   \n",
      "\u001b[90m# … with 292 more rows, and 8 more variables: `2.3` <chr>, down <chr>,\u001b[39m\n",
      "\u001b[90m#   `0.0` <chr>, ...15 <chr>, fix <chr>, buff <chr>, ...18 <chr>, H <chr>\u001b[39m\n"
     ]
    }
   ],
   "source": [
    "print(test)"
   ]
  },
  {
   "cell_type": "code",
   "execution_count": null,
   "id": "0c7aa759-10b5-4506-899c-a28646f2ba16",
   "metadata": {},
   "outputs": [],
   "source": []
  }
 ],
 "metadata": {
  "kernelspec": {
   "display_name": "R",
   "language": "R",
   "name": "ir"
  },
  "language_info": {
   "codemirror_mode": "r",
   "file_extension": ".r",
   "mimetype": "text/x-r-source",
   "name": "R",
   "pygments_lexer": "r",
   "version": "4.1.3"
  }
 },
 "nbformat": 4,
 "nbformat_minor": 5
}
