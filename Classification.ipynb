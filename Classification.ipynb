{
 "cells": [
  {
   "cell_type": "code",
   "execution_count": 6,
   "id": "3caad5ac-e268-4051-9a26-55b108e1801c",
   "metadata": {},
   "outputs": [],
   "source": [
    "# load libraries and set seed value\n",
    "library(tidyverse)\n",
    "library(repr)\n",
    "library(tidymodels)\n",
    "library(cowplot)\n",
    "options(repr.matrix.max.rows = 6)\n",
    "set.seed(2000) "
   ]
  },
  {
   "cell_type": "code",
   "execution_count": 14,
   "id": "72918eab-c147-41bf-8907-0d559f286a91",
   "metadata": {},
   "outputs": [
    {
     "name": "stderr",
     "output_type": "stream",
     "text": [
      "\n",
      "\u001b[36m──\u001b[39m \u001b[1mColumn specification\u001b[22m \u001b[36m────────────────────────────────────────────────────────\u001b[39m\n",
      "cols(\n",
      "  X1 = \u001b[32mcol_double()\u001b[39m,\n",
      "  X2 = \u001b[31mcol_character()\u001b[39m,\n",
      "  X3 = \u001b[31mcol_character()\u001b[39m,\n",
      "  X4 = \u001b[32mcol_double()\u001b[39m,\n",
      "  X5 = \u001b[32mcol_double()\u001b[39m,\n",
      "  X6 = \u001b[31mcol_character()\u001b[39m,\n",
      "  X7 = \u001b[31mcol_character()\u001b[39m,\n",
      "  X8 = \u001b[32mcol_double()\u001b[39m,\n",
      "  X9 = \u001b[31mcol_character()\u001b[39m,\n",
      "  X10 = \u001b[32mcol_double()\u001b[39m,\n",
      "  X11 = \u001b[31mcol_character()\u001b[39m,\n",
      "  X12 = \u001b[31mcol_character()\u001b[39m,\n",
      "  X13 = \u001b[31mcol_character()\u001b[39m,\n",
      "  X14 = \u001b[31mcol_character()\u001b[39m,\n",
      "  X15 = \u001b[31mcol_character()\u001b[39m\n",
      ")\n",
      "\n",
      "Warning message in mask$eval_all_mutate(quo):\n",
      "“NAs introduced by coercion”\n"
     ]
    }
   ],
   "source": [
    "set.seed(2000) \n",
    "\n",
    "# read data set from web\n",
    "data <- read_table(\"https://archive.ics.uci.edu/ml/machine-learning-databases/heart-disease/cleve.mod\", skip = 19, col_names=FALSE) \n",
    "\n",
    "# assign column names\n",
    "colnames(data) <- c(\"age\", \"sex\", \"chest_pain_type\", \"resting_blood_pres\", \"cholesterol\", \"fasting_blood_sugar < 120\", \"resting_ecg\", \"max_heart_rate\", \"exercise_induced_angina\", \"oldpeak\", \"slope\", \"number_of_vessels_colored\", \"thal\", \"presence_of_heart_disease\", \"sickness_classifier\")\n",
    "\n",
    "# select numerical variables and class variable to predict, mutate required variables to numeric / factor and replace cells to improve readability\n",
    "data_selected_prelim <- data |>\n",
    "    select(\"age\", \"resting_blood_pres\", \"cholesterol\", \"max_heart_rate\", \"oldpeak\", \"number_of_vessels_colored\", \"presence_of_heart_disease\") |>\n",
    "    mutate(number_of_vessels_colored = as.numeric(number_of_vessels_colored)) |>\n",
    "    mutate(presence_of_heart_disease = replace(presence_of_heart_disease, presence_of_heart_disease == \"buff\", \"no\")) |>\n",
    "    mutate(presence_of_heart_disease = replace(presence_of_heart_disease, presence_of_heart_disease == \"sick\", \"yes\")) |>\n",
    "    mutate(presence_of_heart_disease = as_factor(presence_of_heart_disease))\n",
    "\n",
    "# re-order columns\n",
    "data_selected <- bind_cols(select(data_selected_prelim, presence_of_heart_disease),select(data_selected_prelim, -presence_of_heart_disease)) \n",
    "\n",
    "#split data into training and testing sets\n"
   ]
  },
  {
   "cell_type": "code",
   "execution_count": 15,
   "id": "748cf146-0287-48f0-9ddd-7bde5fed634e",
   "metadata": {},
   "outputs": [
    {
     "data": {
      "text/html": [
       "<table class=\"dataframe\">\n",
       "<caption>A tibble: 175 × 7</caption>\n",
       "<thead>\n",
       "\t<tr><th scope=col>presence_of_heart_disease</th><th scope=col>age</th><th scope=col>resting_blood_pres</th><th scope=col>cholesterol</th><th scope=col>max_heart_rate</th><th scope=col>oldpeak</th><th scope=col>number_of_vessels_colored</th></tr>\n",
       "\t<tr><th scope=col>&lt;fct&gt;</th><th scope=col>&lt;dbl&gt;</th><th scope=col>&lt;dbl&gt;</th><th scope=col>&lt;dbl&gt;</th><th scope=col>&lt;dbl&gt;</th><th scope=col>&lt;dbl&gt;</th><th scope=col>&lt;dbl&gt;</th></tr>\n",
       "</thead>\n",
       "<tbody>\n",
       "\t<tr><td>no</td><td>63</td><td>145</td><td>233</td><td>150</td><td>2.3</td><td>0</td></tr>\n",
       "\t<tr><td>no</td><td>37</td><td>130</td><td>250</td><td>187</td><td>3.5</td><td>0</td></tr>\n",
       "\t<tr><td>no</td><td>41</td><td>130</td><td>204</td><td>172</td><td>1.4</td><td>0</td></tr>\n",
       "\t<tr><td>⋮</td><td>⋮</td><td>⋮</td><td>⋮</td><td>⋮</td><td>⋮</td><td>⋮</td></tr>\n",
       "\t<tr><td>no</td><td>54</td><td>110</td><td>214</td><td>158</td><td>1.6</td><td>0</td></tr>\n",
       "\t<tr><td>no</td><td>58</td><td>100</td><td>248</td><td>122</td><td>1.0</td><td>0</td></tr>\n",
       "\t<tr><td>no</td><td>57</td><td>132</td><td>207</td><td>168</td><td>0.0</td><td>0</td></tr>\n",
       "</tbody>\n",
       "</table>\n"
      ],
      "text/latex": [
       "A tibble: 175 × 7\n",
       "\\begin{tabular}{lllllll}\n",
       " presence\\_of\\_heart\\_disease & age & resting\\_blood\\_pres & cholesterol & max\\_heart\\_rate & oldpeak & number\\_of\\_vessels\\_colored\\\\\n",
       " <fct> & <dbl> & <dbl> & <dbl> & <dbl> & <dbl> & <dbl>\\\\\n",
       "\\hline\n",
       "\t no & 63 & 145 & 233 & 150 & 2.3 & 0\\\\\n",
       "\t no & 37 & 130 & 250 & 187 & 3.5 & 0\\\\\n",
       "\t no & 41 & 130 & 204 & 172 & 1.4 & 0\\\\\n",
       "\t ⋮ & ⋮ & ⋮ & ⋮ & ⋮ & ⋮ & ⋮\\\\\n",
       "\t no & 54 & 110 & 214 & 158 & 1.6 & 0\\\\\n",
       "\t no & 58 & 100 & 248 & 122 & 1.0 & 0\\\\\n",
       "\t no & 57 & 132 & 207 & 168 & 0.0 & 0\\\\\n",
       "\\end{tabular}\n"
      ],
      "text/markdown": [
       "\n",
       "A tibble: 175 × 7\n",
       "\n",
       "| presence_of_heart_disease &lt;fct&gt; | age &lt;dbl&gt; | resting_blood_pres &lt;dbl&gt; | cholesterol &lt;dbl&gt; | max_heart_rate &lt;dbl&gt; | oldpeak &lt;dbl&gt; | number_of_vessels_colored &lt;dbl&gt; |\n",
       "|---|---|---|---|---|---|---|\n",
       "| no | 63 | 145 | 233 | 150 | 2.3 | 0 |\n",
       "| no | 37 | 130 | 250 | 187 | 3.5 | 0 |\n",
       "| no | 41 | 130 | 204 | 172 | 1.4 | 0 |\n",
       "| ⋮ | ⋮ | ⋮ | ⋮ | ⋮ | ⋮ | ⋮ |\n",
       "| no | 54 | 110 | 214 | 158 | 1.6 | 0 |\n",
       "| no | 58 | 100 | 248 | 122 | 1.0 | 0 |\n",
       "| no | 57 | 132 | 207 | 168 | 0.0 | 0 |\n",
       "\n"
      ],
      "text/plain": [
       "    presence_of_heart_disease age resting_blood_pres cholesterol max_heart_rate\n",
       "1   no                        63  145                233         150           \n",
       "2   no                        37  130                250         187           \n",
       "3   no                        41  130                204         172           \n",
       "⋮   ⋮                         ⋮   ⋮                  ⋮           ⋮             \n",
       "173 no                        54  110                214         158           \n",
       "174 no                        58  100                248         122           \n",
       "175 no                        57  132                207         168           \n",
       "    oldpeak number_of_vessels_colored\n",
       "1   2.3     0                        \n",
       "2   3.5     0                        \n",
       "3   1.4     0                        \n",
       "⋮   ⋮       ⋮                        \n",
       "173 1.6     0                        \n",
       "174 1.0     0                        \n",
       "175 0.0     0                        "
      ]
     },
     "metadata": {},
     "output_type": "display_data"
    }
   ],
   "source": [
    "set.seed(2000) \n",
    "\n",
    "data_na <- data_selected |>\n",
    "filter (number_of_vessels_colored == -(is.na(number_of_vessels_colored)))\n",
    "data_na\n",
    "\n",
    "#split data into training and testing sets\n",
    "data_split <- initial_split(data_na, prop = .75, strata = presence_of_heart_disease)\n",
    "data_training <- training(data_split)\n",
    "data_testing <- testing(data_split)\n"
   ]
  },
  {
   "cell_type": "code",
   "execution_count": 18,
   "id": "a1b4ead0-3512-456c-9b3d-6406f45f2c59",
   "metadata": {},
   "outputs": [
    {
     "name": "stderr",
     "output_type": "stream",
     "text": [
      "\u001b[33m!\u001b[39m \u001b[33mFold1: preprocessor 1/1: Column(s) have zero variance so scaling cannot be used: `number_of_vesse...\u001b[39m\n",
      "\n",
      "\u001b[33m!\u001b[39m \u001b[33mFold2: preprocessor 1/1: Column(s) have zero variance so scaling cannot be used: `number_of_vesse...\u001b[39m\n",
      "\n",
      "\u001b[33m!\u001b[39m \u001b[33mFold3: preprocessor 1/1: Column(s) have zero variance so scaling cannot be used: `number_of_vesse...\u001b[39m\n",
      "\n",
      "\u001b[33m!\u001b[39m \u001b[33mFold4: preprocessor 1/1: Column(s) have zero variance so scaling cannot be used: `number_of_vesse...\u001b[39m\n",
      "\n",
      "\u001b[33m!\u001b[39m \u001b[33mFold5: preprocessor 1/1: Column(s) have zero variance so scaling cannot be used: `number_of_vesse...\u001b[39m\n",
      "\n"
     ]
    },
    {
     "data": {
      "text/html": [
       "<table class=\"dataframe\">\n",
       "<caption>A tibble: 20 × 7</caption>\n",
       "<thead>\n",
       "\t<tr><th scope=col>neighbors</th><th scope=col>.metric</th><th scope=col>.estimator</th><th scope=col>mean</th><th scope=col>n</th><th scope=col>std_err</th><th scope=col>.config</th></tr>\n",
       "\t<tr><th scope=col>&lt;int&gt;</th><th scope=col>&lt;chr&gt;</th><th scope=col>&lt;chr&gt;</th><th scope=col>&lt;dbl&gt;</th><th scope=col>&lt;int&gt;</th><th scope=col>&lt;dbl&gt;</th><th scope=col>&lt;chr&gt;</th></tr>\n",
       "</thead>\n",
       "<tbody>\n",
       "\t<tr><td>1</td><td>accuracy</td><td>binary</td><td>0.7233276</td><td>5</td><td>0.04149875</td><td>Preprocessor1_Model01</td></tr>\n",
       "\t<tr><td>2</td><td>accuracy</td><td>binary</td><td>0.7233276</td><td>5</td><td>0.04149875</td><td>Preprocessor1_Model02</td></tr>\n",
       "\t<tr><td>3</td><td>accuracy</td><td>binary</td><td>0.7310427</td><td>5</td><td>0.03240526</td><td>Preprocessor1_Model03</td></tr>\n",
       "\t<tr><td>⋮</td><td>⋮</td><td>⋮</td><td>⋮</td><td>⋮</td><td>⋮</td><td>⋮</td></tr>\n",
       "\t<tr><td>18</td><td>accuracy</td><td>binary</td><td>0.8000570</td><td>5</td><td>0.006214746</td><td>Preprocessor1_Model18</td></tr>\n",
       "\t<tr><td> 9</td><td>accuracy</td><td>binary</td><td>0.8000798</td><td>5</td><td>0.037931062</td><td>Preprocessor1_Model09</td></tr>\n",
       "\t<tr><td>10</td><td>accuracy</td><td>binary</td><td>0.8000798</td><td>5</td><td>0.037931062</td><td>Preprocessor1_Model10</td></tr>\n",
       "</tbody>\n",
       "</table>\n"
      ],
      "text/latex": [
       "A tibble: 20 × 7\n",
       "\\begin{tabular}{lllllll}\n",
       " neighbors & .metric & .estimator & mean & n & std\\_err & .config\\\\\n",
       " <int> & <chr> & <chr> & <dbl> & <int> & <dbl> & <chr>\\\\\n",
       "\\hline\n",
       "\t 1 & accuracy & binary & 0.7233276 & 5 & 0.04149875 & Preprocessor1\\_Model01\\\\\n",
       "\t 2 & accuracy & binary & 0.7233276 & 5 & 0.04149875 & Preprocessor1\\_Model02\\\\\n",
       "\t 3 & accuracy & binary & 0.7310427 & 5 & 0.03240526 & Preprocessor1\\_Model03\\\\\n",
       "\t ⋮ & ⋮ & ⋮ & ⋮ & ⋮ & ⋮ & ⋮\\\\\n",
       "\t 18 & accuracy & binary & 0.8000570 & 5 & 0.006214746 & Preprocessor1\\_Model18\\\\\n",
       "\t  9 & accuracy & binary & 0.8000798 & 5 & 0.037931062 & Preprocessor1\\_Model09\\\\\n",
       "\t 10 & accuracy & binary & 0.8000798 & 5 & 0.037931062 & Preprocessor1\\_Model10\\\\\n",
       "\\end{tabular}\n"
      ],
      "text/markdown": [
       "\n",
       "A tibble: 20 × 7\n",
       "\n",
       "| neighbors &lt;int&gt; | .metric &lt;chr&gt; | .estimator &lt;chr&gt; | mean &lt;dbl&gt; | n &lt;int&gt; | std_err &lt;dbl&gt; | .config &lt;chr&gt; |\n",
       "|---|---|---|---|---|---|---|\n",
       "| 1 | accuracy | binary | 0.7233276 | 5 | 0.04149875 | Preprocessor1_Model01 |\n",
       "| 2 | accuracy | binary | 0.7233276 | 5 | 0.04149875 | Preprocessor1_Model02 |\n",
       "| 3 | accuracy | binary | 0.7310427 | 5 | 0.03240526 | Preprocessor1_Model03 |\n",
       "| ⋮ | ⋮ | ⋮ | ⋮ | ⋮ | ⋮ | ⋮ |\n",
       "| 18 | accuracy | binary | 0.8000570 | 5 | 0.006214746 | Preprocessor1_Model18 |\n",
       "|  9 | accuracy | binary | 0.8000798 | 5 | 0.037931062 | Preprocessor1_Model09 |\n",
       "| 10 | accuracy | binary | 0.8000798 | 5 | 0.037931062 | Preprocessor1_Model10 |\n",
       "\n"
      ],
      "text/plain": [
       "   neighbors .metric  .estimator mean      n std_err     .config              \n",
       "1  1         accuracy binary     0.7233276 5 0.04149875  Preprocessor1_Model01\n",
       "2  2         accuracy binary     0.7233276 5 0.04149875  Preprocessor1_Model02\n",
       "3  3         accuracy binary     0.7310427 5 0.03240526  Preprocessor1_Model03\n",
       "⋮  ⋮         ⋮        ⋮          ⋮         ⋮ ⋮           ⋮                    \n",
       "18 18        accuracy binary     0.8000570 5 0.006214746 Preprocessor1_Model18\n",
       "19  9        accuracy binary     0.8000798 5 0.037931062 Preprocessor1_Model09\n",
       "20 10        accuracy binary     0.8000798 5 0.037931062 Preprocessor1_Model10"
      ]
     },
     "metadata": {},
     "output_type": "display_data"
    },
    {
     "data": {
      "image/png": "[encoded data removed]",
      "text/plain": [
       "plot without title"
      ]
     },
     "metadata": {
      "image/png": {
       "height": 420,
       "width": 420
      }
     },
     "output_type": "display_data"
    }
   ],
   "source": [
    "set.seed(2000) \n",
    "\n",
    "vfold <- vfold_cv (data_training, v=5, strata= presence_of_heart_disease)\n",
    "\n",
    "grid_vals <- tibble(neighbors = seq(from=1, to = 20))\n",
    "\n",
    "spec <- nearest_neighbor(weight_func = \"rectangular\", neighbors = tune()) |>\n",
    "set_engine (\"kknn\") |>\n",
    "set_mode (\"classification\")\n",
    "\n",
    "recipe <- recipe(presence_of_heart_disease ~ age +max_heart_rate+oldpeak+number_of_vessels_colored, data= data_training) |>\n",
    "step_scale(all_predictors()) |>\n",
    "step_center(all_predictors())\n",
    "\n",
    "fruit_fit_results <- workflow() |>\n",
    "add_recipe(recipe) |>\n",
    "add_model(spec) |>\n",
    "tune_grid(resamples = vfold, grid=grid_vals) |>\n",
    "collect_metrics() |>\n",
    "filter (.metric == \"accuracy\") |>\n",
    "arrange(mean)\n",
    "fruit_fit_results\n",
    "\n",
    "graph <- fruit_fit_results |>\n",
    "ggplot (aes (x= neighbors, y=mean)) +\n",
    "geom_point () +\n",
    "geom_line ()\n",
    "graph"
   ]
  },
  {
   "cell_type": "code",
   "execution_count": 22,
   "id": "8957830f-dfe7-454c-ab19-0117307856cc",
   "metadata": {},
   "outputs": [
    {
     "name": "stderr",
     "output_type": "stream",
     "text": [
      "Warning message:\n",
      "“Column(s) have zero variance so scaling cannot be used: `number_of_vessels_colored`. Consider using `step_zv()` to remove those columns before normalizing”\n"
     ]
    },
    {
     "data": {
      "text/plain": [
       "══ Workflow [trained] ══════════════════════════════════════════════════════════\n",
       "\u001b[3mPreprocessor:\u001b[23m Recipe\n",
       "\u001b[3mModel:\u001b[23m nearest_neighbor()\n",
       "\n",
       "── Preprocessor ────────────────────────────────────────────────────────────────\n",
       "2 Recipe Steps\n",
       "\n",
       "• step_scale()\n",
       "• step_center()\n",
       "\n",
       "── Model ───────────────────────────────────────────────────────────────────────\n",
       "\n",
       "Call:\n",
       "kknn::train.kknn(formula = ..y ~ ., data = data, ks = min_rows(10,     data, 5), kernel = ~\"rectangular\")\n",
       "\n",
       "Type of response variable: nominal\n",
       "Minimal misclassification: 0.2153846\n",
       "Best kernel: rectangular\n",
       "Best k: 10"
      ]
     },
     "metadata": {},
     "output_type": "display_data"
    },
    {
     "data": {
      "text/html": [
       "<table class=\"dataframe\">\n",
       "<caption>A tibble: 1 × 3</caption>\n",
       "<thead>\n",
       "\t<tr><th scope=col>.metric</th><th scope=col>.estimator</th><th scope=col>.estimate</th></tr>\n",
       "\t<tr><th scope=col>&lt;chr&gt;</th><th scope=col>&lt;chr&gt;</th><th scope=col>&lt;dbl&gt;</th></tr>\n",
       "</thead>\n",
       "<tbody>\n",
       "\t<tr><td>accuracy</td><td>binary</td><td>0.7777778</td></tr>\n",
       "</tbody>\n",
       "</table>\n"
      ],
      "text/latex": [
       "A tibble: 1 × 3\n",
       "\\begin{tabular}{lll}\n",
       " .metric & .estimator & .estimate\\\\\n",
       " <chr> & <chr> & <dbl>\\\\\n",
       "\\hline\n",
       "\t accuracy & binary & 0.7777778\\\\\n",
       "\\end{tabular}\n"
      ],
      "text/markdown": [
       "\n",
       "A tibble: 1 × 3\n",
       "\n",
       "| .metric &lt;chr&gt; | .estimator &lt;chr&gt; | .estimate &lt;dbl&gt; |\n",
       "|---|---|---|\n",
       "| accuracy | binary | 0.7777778 |\n",
       "\n"
      ],
      "text/plain": [
       "  .metric  .estimator .estimate\n",
       "1 accuracy binary     0.7777778"
      ]
     },
     "metadata": {},
     "output_type": "display_data"
    }
   ],
   "source": [
    "set.seed(2000) \n",
    "\n",
    "spec <- nearest_neighbor(weight_func = \"rectangular\", neighbors = 10) |>\n",
    "set_engine (\"kknn\") |>\n",
    "set_mode (\"classification\")\n",
    "\n",
    "fit <- workflow() |>\n",
    "add_recipe(recipe) |>\n",
    "add_model(spec) |>\n",
    "fit(data=data_training) \n",
    "fit\n",
    "\n",
    "\n",
    "predict <- predict(fit, data_testing) |>\n",
    "bind_cols(data_testing)|>\n",
    "metrics(truth = presence_of_heart_disease, estimate = .pred_class) |>\n",
    "filter (.metric == \"accuracy\")\n",
    "predict"
   ]
  },
  {
   "cell_type": "code",
   "execution_count": null,
   "id": "0e96b4a1-dad4-4bf4-88f8-5e0f81a3826b",
   "metadata": {},
   "outputs": [],
   "source": []
  }
 ],
 "metadata": {
  "kernelspec": {
   "display_name": "R",
   "language": "R",
   "name": "ir"
  },
  "language_info": {
   "codemirror_mode": "r",
   "file_extension": ".r",
   "mimetype": "text/x-r-source",
   "name": "R",
   "pygments_lexer": "r",
   "version": "4.1.3"
  }
 },
 "nbformat": 4,
 "nbformat_minor": 5
}
