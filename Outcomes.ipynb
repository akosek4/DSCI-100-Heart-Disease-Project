{
 "cells": [
  {
   "cell_type": "markdown",
   "id": "591b5a3f-66eb-4b84-b5df-43754cf8067d",
   "metadata": {},
   "source": [
    "### Expected Outcomes:\n",
    "\n",
    "We expect to find that our model is able to predict the health of a person's heart (either sick or not sick) relatively accurately given four variables: age, old peak, number of colored blood vessels, and maximum heart rate. The impact of this expected finding could be that the process for finding the heart's health improves, with fewer invasive examinations needed to predict health. Additionally, there may be future questions that this project inspires. One of these could be if this classifier is accurate enough to be used in a professional setting, and if it is, how can it be implemented? Another probable question is would using different predictors and/or training data have an effect on how accurately the model is? Overall, should the model produce accurate enough results, it could help doctors determine a person's heart health."
   ]
  },
  {
   "cell_type": "code",
   "execution_count": null,
   "id": "0e9688c1-7816-43bc-a9d1-2a7d2833bd64",
   "metadata": {},
   "outputs": [],
   "source": []
  }
 ],
 "metadata": {
  "kernelspec": {
   "display_name": "R",
   "language": "R",
   "name": "ir"
  },
  "language_info": {
   "codemirror_mode": "r",
   "file_extension": ".r",
   "mimetype": "text/x-r-source",
   "name": "R",
   "pygments_lexer": "r",
   "version": "4.1.3"
  }
 },
 "nbformat": 4,
 "nbformat_minor": 5
}
